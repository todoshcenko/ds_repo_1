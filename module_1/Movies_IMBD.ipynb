{
 "cells": [
  {
   "cell_type": "code",
   "execution_count": 1,
   "metadata": {
    "_cell_guid": "b1076dfc-b9ad-4769-8c92-a6c4dae69d19",
    "_uuid": "8f2839f25d086af736a60e9eeb907d3b93b6e0e5",
    "colab": {},
    "colab_type": "code",
    "id": "U2D2gTdJVp90"
   },
   "outputs": [],
   "source": [
    "import numpy as np\n",
    "import pandas as pd\n",
    "from collections import Counter\n",
    "import datetime\n",
    "import calendar\n",
    "import re"
   ]
  },
  {
   "cell_type": "code",
   "execution_count": 2,
   "metadata": {
    "_cell_guid": "79c7e3d0-c299-4dcb-8224-4455121ee9b0",
    "_uuid": "d629ff2d2480ee46fbb7e2d37f6b5fab8052498a",
    "colab": {},
    "colab_type": "code",
    "id": "oyGfxL3eVp9-"
   },
   "outputs": [
    {
     "data": {
      "text/html": [
       "<div>\n",
       "<style scoped>\n",
       "    .dataframe tbody tr th:only-of-type {\n",
       "        vertical-align: middle;\n",
       "    }\n",
       "\n",
       "    .dataframe tbody tr th {\n",
       "        vertical-align: top;\n",
       "    }\n",
       "\n",
       "    .dataframe thead th {\n",
       "        text-align: right;\n",
       "    }\n",
       "</style>\n",
       "<table border=\"1\" class=\"dataframe\">\n",
       "  <thead>\n",
       "    <tr style=\"text-align: right;\">\n",
       "      <th></th>\n",
       "      <th>imdb_id</th>\n",
       "      <th>budget</th>\n",
       "      <th>revenue</th>\n",
       "      <th>original_title</th>\n",
       "      <th>cast</th>\n",
       "      <th>director</th>\n",
       "      <th>tagline</th>\n",
       "      <th>overview</th>\n",
       "      <th>runtime</th>\n",
       "      <th>genres</th>\n",
       "      <th>production_companies</th>\n",
       "      <th>release_date</th>\n",
       "      <th>vote_average</th>\n",
       "      <th>release_year</th>\n",
       "    </tr>\n",
       "  </thead>\n",
       "  <tbody>\n",
       "    <tr>\n",
       "      <th>1724</th>\n",
       "      <td>tt0890870</td>\n",
       "      <td>10000000</td>\n",
       "      <td>139352633</td>\n",
       "      <td>Saw IV</td>\n",
       "      <td>Tobin Bell|Scott Patterson|Costas Mandylor|Bet...</td>\n",
       "      <td>Darren Lynn Bousman</td>\n",
       "      <td>It's A Trap</td>\n",
       "      <td>Jigsaw and his apprentice Amanda are dead. Now...</td>\n",
       "      <td>93</td>\n",
       "      <td>Horror|Thriller|Crime</td>\n",
       "      <td>Lions Gate Films|Twisted Pictures</td>\n",
       "      <td>10/25/2007</td>\n",
       "      <td>5.8</td>\n",
       "      <td>2007</td>\n",
       "    </tr>\n",
       "    <tr>\n",
       "      <th>206</th>\n",
       "      <td>tt2870612</td>\n",
       "      <td>5000000</td>\n",
       "      <td>40100000</td>\n",
       "      <td>As Above, So Below</td>\n",
       "      <td>Perdita Weeks|Ben Feldman|Edwin Hodge|FranÃ§oi...</td>\n",
       "      <td>John Erick Dowdle</td>\n",
       "      <td>The only way out is down.</td>\n",
       "      <td>When a team of explorers ventures into the cat...</td>\n",
       "      <td>93</td>\n",
       "      <td>Horror|Thriller</td>\n",
       "      <td>Legendary Pictures</td>\n",
       "      <td>8/14/2014</td>\n",
       "      <td>6.1</td>\n",
       "      <td>2014</td>\n",
       "    </tr>\n",
       "    <tr>\n",
       "      <th>1614</th>\n",
       "      <td>tt0363988</td>\n",
       "      <td>40000000</td>\n",
       "      <td>92913171</td>\n",
       "      <td>Secret Window</td>\n",
       "      <td>Johnny Depp|John Turturro|Timothy Hutton|Charl...</td>\n",
       "      <td>David Koepp</td>\n",
       "      <td>The most important part of a story is the ending.</td>\n",
       "      <td>Mort Rainey, a writer just emerging from a pai...</td>\n",
       "      <td>96</td>\n",
       "      <td>Thriller|Mystery</td>\n",
       "      <td>Columbia Pictures Corporation|Pariah Entertain...</td>\n",
       "      <td>3/12/2004</td>\n",
       "      <td>6.3</td>\n",
       "      <td>2004</td>\n",
       "    </tr>\n",
       "    <tr>\n",
       "      <th>685</th>\n",
       "      <td>tt1032755</td>\n",
       "      <td>18000000</td>\n",
       "      <td>25739015</td>\n",
       "      <td>RockNRolla</td>\n",
       "      <td>Mark Strong|Tom Wilkinson|Toby Kebbell|Gerard ...</td>\n",
       "      <td>Guy Ritchie</td>\n",
       "      <td>A story of sex, thugs and rock 'n roll.</td>\n",
       "      <td>When a Russian mobster sets up a real estate s...</td>\n",
       "      <td>114</td>\n",
       "      <td>Action|Crime|Thriller</td>\n",
       "      <td>StudioCanal|Dark Castle Entertainment|Toff Guy...</td>\n",
       "      <td>9/4/2008</td>\n",
       "      <td>6.8</td>\n",
       "      <td>2008</td>\n",
       "    </tr>\n",
       "    <tr>\n",
       "      <th>645</th>\n",
       "      <td>tt0770752</td>\n",
       "      <td>70000000</td>\n",
       "      <td>111231041</td>\n",
       "      <td>Fool's Gold</td>\n",
       "      <td>Matthew McConaughey|Kate Hudson|Donald Sutherl...</td>\n",
       "      <td>Andy Tennant</td>\n",
       "      <td>This February True Love Takes a Dive.</td>\n",
       "      <td>Charming but luckless treasure hunter Ben Finn...</td>\n",
       "      <td>112</td>\n",
       "      <td>Comedy</td>\n",
       "      <td>De Line Pictures|Warner Bros.</td>\n",
       "      <td>2/7/2008</td>\n",
       "      <td>5.3</td>\n",
       "      <td>2008</td>\n",
       "    </tr>\n",
       "  </tbody>\n",
       "</table>\n",
       "</div>"
      ],
      "text/plain": [
       "        imdb_id    budget    revenue      original_title  \\\n",
       "1724  tt0890870  10000000  139352633              Saw IV   \n",
       "206   tt2870612   5000000   40100000  As Above, So Below   \n",
       "1614  tt0363988  40000000   92913171       Secret Window   \n",
       "685   tt1032755  18000000   25739015          RockNRolla   \n",
       "645   tt0770752  70000000  111231041         Fool's Gold   \n",
       "\n",
       "                                                   cast             director  \\\n",
       "1724  Tobin Bell|Scott Patterson|Costas Mandylor|Bet...  Darren Lynn Bousman   \n",
       "206   Perdita Weeks|Ben Feldman|Edwin Hodge|FranÃ§oi...    John Erick Dowdle   \n",
       "1614  Johnny Depp|John Turturro|Timothy Hutton|Charl...          David Koepp   \n",
       "685   Mark Strong|Tom Wilkinson|Toby Kebbell|Gerard ...          Guy Ritchie   \n",
       "645   Matthew McConaughey|Kate Hudson|Donald Sutherl...         Andy Tennant   \n",
       "\n",
       "                                                tagline  \\\n",
       "1724                                        It's A Trap   \n",
       "206                           The only way out is down.   \n",
       "1614  The most important part of a story is the ending.   \n",
       "685             A story of sex, thugs and rock 'n roll.   \n",
       "645               This February True Love Takes a Dive.   \n",
       "\n",
       "                                               overview  runtime  \\\n",
       "1724  Jigsaw and his apprentice Amanda are dead. Now...       93   \n",
       "206   When a team of explorers ventures into the cat...       93   \n",
       "1614  Mort Rainey, a writer just emerging from a pai...       96   \n",
       "685   When a Russian mobster sets up a real estate s...      114   \n",
       "645   Charming but luckless treasure hunter Ben Finn...      112   \n",
       "\n",
       "                     genres  \\\n",
       "1724  Horror|Thriller|Crime   \n",
       "206         Horror|Thriller   \n",
       "1614       Thriller|Mystery   \n",
       "685   Action|Crime|Thriller   \n",
       "645                  Comedy   \n",
       "\n",
       "                                   production_companies release_date  \\\n",
       "1724                  Lions Gate Films|Twisted Pictures   10/25/2007   \n",
       "206                                  Legendary Pictures    8/14/2014   \n",
       "1614  Columbia Pictures Corporation|Pariah Entertain...    3/12/2004   \n",
       "685   StudioCanal|Dark Castle Entertainment|Toff Guy...     9/4/2008   \n",
       "645                       De Line Pictures|Warner Bros.     2/7/2008   \n",
       "\n",
       "      vote_average  release_year  \n",
       "1724           5.8          2007  \n",
       "206            6.1          2014  \n",
       "1614           6.3          2004  \n",
       "685            6.8          2008  \n",
       "645            5.3          2008  "
      ]
     },
     "execution_count": 2,
     "metadata": {},
     "output_type": "execute_result"
    }
   ],
   "source": [
    "imdb = pd.read_csv('movie_bd_v5.csv')\n",
    "imdb.sample(5)"
   ]
  },
  {
   "cell_type": "code",
   "execution_count": 3,
   "metadata": {
    "colab": {},
    "colab_type": "code",
    "id": "CoYUnagMVp-C"
   },
   "outputs": [
    {
     "data": {
      "text/html": [
       "<div>\n",
       "<style scoped>\n",
       "    .dataframe tbody tr th:only-of-type {\n",
       "        vertical-align: middle;\n",
       "    }\n",
       "\n",
       "    .dataframe tbody tr th {\n",
       "        vertical-align: top;\n",
       "    }\n",
       "\n",
       "    .dataframe thead th {\n",
       "        text-align: right;\n",
       "    }\n",
       "</style>\n",
       "<table border=\"1\" class=\"dataframe\">\n",
       "  <thead>\n",
       "    <tr style=\"text-align: right;\">\n",
       "      <th></th>\n",
       "      <th>budget</th>\n",
       "      <th>revenue</th>\n",
       "      <th>runtime</th>\n",
       "      <th>vote_average</th>\n",
       "      <th>release_year</th>\n",
       "    </tr>\n",
       "  </thead>\n",
       "  <tbody>\n",
       "    <tr>\n",
       "      <th>count</th>\n",
       "      <td>1.889000e+03</td>\n",
       "      <td>1.889000e+03</td>\n",
       "      <td>1889.000000</td>\n",
       "      <td>1889.000000</td>\n",
       "      <td>1889.000000</td>\n",
       "    </tr>\n",
       "    <tr>\n",
       "      <th>mean</th>\n",
       "      <td>5.431083e+07</td>\n",
       "      <td>1.553653e+08</td>\n",
       "      <td>109.658549</td>\n",
       "      <td>6.140762</td>\n",
       "      <td>2007.860773</td>\n",
       "    </tr>\n",
       "    <tr>\n",
       "      <th>std</th>\n",
       "      <td>4.858721e+07</td>\n",
       "      <td>2.146698e+08</td>\n",
       "      <td>18.017041</td>\n",
       "      <td>0.764763</td>\n",
       "      <td>4.468841</td>\n",
       "    </tr>\n",
       "    <tr>\n",
       "      <th>min</th>\n",
       "      <td>5.000000e+06</td>\n",
       "      <td>2.033165e+06</td>\n",
       "      <td>63.000000</td>\n",
       "      <td>3.300000</td>\n",
       "      <td>2000.000000</td>\n",
       "    </tr>\n",
       "    <tr>\n",
       "      <th>25%</th>\n",
       "      <td>2.000000e+07</td>\n",
       "      <td>3.456058e+07</td>\n",
       "      <td>97.000000</td>\n",
       "      <td>5.600000</td>\n",
       "      <td>2004.000000</td>\n",
       "    </tr>\n",
       "    <tr>\n",
       "      <th>50%</th>\n",
       "      <td>3.800000e+07</td>\n",
       "      <td>8.361541e+07</td>\n",
       "      <td>107.000000</td>\n",
       "      <td>6.100000</td>\n",
       "      <td>2008.000000</td>\n",
       "    </tr>\n",
       "    <tr>\n",
       "      <th>75%</th>\n",
       "      <td>7.200000e+07</td>\n",
       "      <td>1.782626e+08</td>\n",
       "      <td>120.000000</td>\n",
       "      <td>6.600000</td>\n",
       "      <td>2012.000000</td>\n",
       "    </tr>\n",
       "    <tr>\n",
       "      <th>max</th>\n",
       "      <td>3.800000e+08</td>\n",
       "      <td>2.781506e+09</td>\n",
       "      <td>214.000000</td>\n",
       "      <td>8.100000</td>\n",
       "      <td>2015.000000</td>\n",
       "    </tr>\n",
       "  </tbody>\n",
       "</table>\n",
       "</div>"
      ],
      "text/plain": [
       "             budget       revenue      runtime  vote_average  release_year\n",
       "count  1.889000e+03  1.889000e+03  1889.000000   1889.000000   1889.000000\n",
       "mean   5.431083e+07  1.553653e+08   109.658549      6.140762   2007.860773\n",
       "std    4.858721e+07  2.146698e+08    18.017041      0.764763      4.468841\n",
       "min    5.000000e+06  2.033165e+06    63.000000      3.300000   2000.000000\n",
       "25%    2.000000e+07  3.456058e+07    97.000000      5.600000   2004.000000\n",
       "50%    3.800000e+07  8.361541e+07   107.000000      6.100000   2008.000000\n",
       "75%    7.200000e+07  1.782626e+08   120.000000      6.600000   2012.000000\n",
       "max    3.800000e+08  2.781506e+09   214.000000      8.100000   2015.000000"
      ]
     },
     "execution_count": 3,
     "metadata": {},
     "output_type": "execute_result"
    }
   ],
   "source": [
    "imdb.describe()"
   ]
  },
  {
   "cell_type": "markdown",
   "metadata": {
    "colab_type": "text",
    "id": "DTIt7ezGVp-G"
   },
   "source": [
    "# Предобработка"
   ]
  },
  {
   "cell_type": "code",
   "execution_count": 4,
   "metadata": {
    "colab": {},
    "colab_type": "code",
    "id": "jNb40DwKVp-H"
   },
   "outputs": [],
   "source": [
    "answers = {} # создадим словарь для ответов\n",
    "\n",
    "# тут другие ваши предобработки колонок например:\n",
    "\n",
    "def extend_imdb(df, column, extension_column):\n",
    "    extension = pd.DataFrame(df[column].str.split(\"|\").tolist(), index=df.imdb_id).stack()\n",
    "    extension = extension.reset_index([0, \"imdb_id\"])\n",
    "    extension.columns = ['imdb_id', extension_column]\n",
    "    return df.merge(extension, on=\"imdb_id\", how=\"left\")\n",
    "\n",
    "imdb['profit'] = imdb['revenue'] - imdb['budget']\n",
    "imdb['month'] = imdb.release_date.apply(lambda rd: datetime.datetime.strptime(str(rd), \"%m/%d/%Y\").month)\n",
    "imdb['title_length'] = imdb.original_title.apply(lambda t: len(t))\n",
    "imdb['overview_words'] = imdb.overview.apply(lambda o: len(re.findall(r\"[\\w']+\", o.lower())))"
   ]
  },
  {
   "cell_type": "markdown",
   "metadata": {
    "colab_type": "text",
    "id": "YxZaH-nPVp-L"
   },
   "source": [
    "# 1. У какого фильма из списка самый большой бюджет?"
   ]
  },
  {
   "cell_type": "markdown",
   "metadata": {
    "colab_type": "text",
    "id": "Nd-G5gX6Vp-M"
   },
   "source": [
    "Использовать варианты ответов в коде решения запрещено.    \n",
    "Вы думаете и в жизни у вас будут варианты ответов?)"
   ]
  },
  {
   "cell_type": "code",
   "execution_count": 5,
   "metadata": {
    "colab": {},
    "colab_type": "code",
    "id": "uVnXAY5RVp-O"
   },
   "outputs": [],
   "source": [
    "result = imdb[imdb.budget == imdb.budget.max()].head(1)\n",
    "answers['1'] = \"%s (%s)\" % (result['original_title'].item(), result['imdb_id'].item())"
   ]
  },
  {
   "cell_type": "markdown",
   "metadata": {
    "colab_type": "text",
    "id": "FNRbbI3vVp-c"
   },
   "source": [
    "# 2. Какой из фильмов самый длительный (в минутах)?"
   ]
  },
  {
   "cell_type": "code",
   "execution_count": 6,
   "metadata": {
    "colab": {},
    "colab_type": "code",
    "id": "vHAoEXNTVp-d"
   },
   "outputs": [],
   "source": [
    "result = imdb[imdb.runtime == imdb.runtime.max()].head(1)\n",
    "answers['2'] = \"%s (%s)\" % (result['original_title'].item(), result['imdb_id'].item())"
   ]
  },
  {
   "cell_type": "markdown",
   "metadata": {
    "colab_type": "text",
    "id": "bapLlpW8Vp-k"
   },
   "source": [
    "# 3. Какой из фильмов самый короткий (в минутах)?\n",
    "\n",
    "\n",
    "\n"
   ]
  },
  {
   "cell_type": "code",
   "execution_count": 7,
   "metadata": {
    "colab": {},
    "colab_type": "code",
    "id": "YBxaSHuAVp-l"
   },
   "outputs": [],
   "source": [
    "result = imdb[imdb.runtime == imdb.runtime.min()].head(1)\n",
    "answers['3'] = \"%s (%s)\" % (result['original_title'].item(), result['imdb_id'].item())"
   ]
  },
  {
   "cell_type": "markdown",
   "metadata": {
    "colab_type": "text",
    "id": "TfQbxbfNVp-p"
   },
   "source": [
    "# 4. Какова средняя длительность фильмов?\n"
   ]
  },
  {
   "cell_type": "code",
   "execution_count": 8,
   "metadata": {
    "colab": {},
    "colab_type": "code",
    "id": "5K6dKZYVVp-q"
   },
   "outputs": [],
   "source": [
    "answers['4'] = \"%d\" % round(imdb['runtime'].mean())"
   ]
  },
  {
   "cell_type": "markdown",
   "metadata": {
    "colab_type": "text",
    "id": "r5TvbnT_Vp-u"
   },
   "source": [
    "# 5. Каково медианное значение длительности фильмов? "
   ]
  },
  {
   "cell_type": "code",
   "execution_count": 9,
   "metadata": {
    "colab": {},
    "colab_type": "code",
    "id": "iBROplKnVp-v"
   },
   "outputs": [],
   "source": [
    "answers['5'] = \"%d\" % round(imdb['runtime'].median())"
   ]
  },
  {
   "cell_type": "markdown",
   "metadata": {
    "colab_type": "text",
    "id": "39P-deDSVp-y"
   },
   "source": [
    "# 6. Какой самый прибыльный фильм?\n",
    "#### Внимание! Здесь и далее под «прибылью» или «убытками» понимается разность между сборами и бюджетом фильма. (прибыль = сборы - бюджет) в нашем датасете это будет (profit = revenue - budget) "
   ]
  },
  {
   "cell_type": "code",
   "execution_count": 10,
   "metadata": {
    "colab": {},
    "colab_type": "code",
    "id": "UYZh4T9WVp-y"
   },
   "outputs": [],
   "source": [
    "result = imdb[imdb.profit == imdb.profit.max()].head(1)\n",
    "answers['6'] = \"%s (%s)\" % (result['original_title'].item(), result['imdb_id'].item())"
   ]
  },
  {
   "cell_type": "markdown",
   "metadata": {
    "colab_type": "text",
    "id": "M99JmIX4Vp-2"
   },
   "source": [
    "# 7. Какой фильм самый убыточный? "
   ]
  },
  {
   "cell_type": "code",
   "execution_count": 11,
   "metadata": {
    "colab": {},
    "colab_type": "code",
    "id": "w-D2m4XPVp-3"
   },
   "outputs": [],
   "source": [
    "result = imdb[imdb.profit == imdb.profit.min()].head(1)\n",
    "answers['7'] = \"%s (%s)\" % (result['original_title'].item(), result['imdb_id'].item())"
   ]
  },
  {
   "cell_type": "markdown",
   "metadata": {
    "colab_type": "text",
    "id": "wEOM5ERVVp-6"
   },
   "source": [
    "# 8. У скольких фильмов из датасета объем сборов оказался выше бюджета?"
   ]
  },
  {
   "cell_type": "code",
   "execution_count": 12,
   "metadata": {
    "colab": {},
    "colab_type": "code",
    "id": "y00_7HD6Vp-7"
   },
   "outputs": [],
   "source": [
    "result = len(imdb[imdb.profit > 0].index)\n",
    "answers['8'] = \"%d\" % result"
   ]
  },
  {
   "cell_type": "markdown",
   "metadata": {
    "colab_type": "text",
    "id": "xhpspA9KVp_A"
   },
   "source": [
    "# 9. Какой фильм оказался самым кассовым в 2008 году?"
   ]
  },
  {
   "cell_type": "code",
   "execution_count": 13,
   "metadata": {
    "colab": {},
    "colab_type": "code",
    "id": "MoUyQr9RVp_B"
   },
   "outputs": [],
   "source": [
    "imdb_for_2008 = imdb[imdb.release_year == 2008]\n",
    "result = imdb_for_2008[imdb_for_2008.profit == imdb_for_2008.profit.max()].head(1)\n",
    "answers['9'] = \"%s (%s)\" % (result['original_title'].item(), result['imdb_id'].item())"
   ]
  },
  {
   "cell_type": "markdown",
   "metadata": {
    "colab_type": "text",
    "id": "Zi4hDKidVp_F"
   },
   "source": [
    "# 10. Самый убыточный фильм за период с 2012 по 2014 г. (включительно)?\n"
   ]
  },
  {
   "cell_type": "code",
   "execution_count": 14,
   "metadata": {
    "colab": {},
    "colab_type": "code",
    "id": "XqyRmufJVp_F"
   },
   "outputs": [],
   "source": [
    "imdb_from2012_to_2014 = imdb[(imdb.release_year >= 2012) & (imdb.release_year <= 2014)]\n",
    "result = imdb_from2012_to_2014[imdb_from2012_to_2014.profit == imdb_from2012_to_2014.profit.min()].head(1)\n",
    "answers['10'] = \"%s (%s)\" % (result['original_title'].item(), result['imdb_id'].item())"
   ]
  },
  {
   "cell_type": "markdown",
   "metadata": {
    "colab_type": "text",
    "id": "EA7Sa9dkVp_I"
   },
   "source": [
    "# 11. Какого жанра фильмов больше всего?"
   ]
  },
  {
   "cell_type": "code",
   "execution_count": 15,
   "metadata": {
    "colab": {},
    "colab_type": "code",
    "id": "zsJAwJ8QVp_J"
   },
   "outputs": [],
   "source": [
    "imdb_with_genres = extend_imdb(imdb, \"genres\", \"genre\")\n",
    "answers['11'] = imdb_with_genres['genre'].value_counts().index[0]"
   ]
  },
  {
   "cell_type": "markdown",
   "metadata": {
    "colab_type": "text",
    "id": "T9_bPWpkVp_Q"
   },
   "source": [
    "# 12. Фильмы какого жанра чаще всего становятся прибыльными? "
   ]
  },
  {
   "cell_type": "code",
   "execution_count": 16,
   "metadata": {
    "colab": {},
    "colab_type": "code",
    "id": "Tmt8MaK1Vp_R"
   },
   "outputs": [],
   "source": [
    "imdb_with_genres = extend_imdb(imdb, \"genres\", \"genre\")\n",
    "result = imdb_with_genres[imdb_with_genres.profit > 0]['genre'].value_counts()\n",
    "answers['12'] = result.index[0]"
   ]
  },
  {
   "cell_type": "markdown",
   "metadata": {
    "colab_type": "text",
    "id": "0F23bgsDVp_U"
   },
   "source": [
    "# 13. У какого режиссера самые большие суммарные кассовые сбооры?"
   ]
  },
  {
   "cell_type": "code",
   "execution_count": 17,
   "metadata": {
    "colab": {},
    "colab_type": "code",
    "id": "K6Z3J8ygVp_X"
   },
   "outputs": [],
   "source": [
    "imdb_with_directors = extend_imdb(imdb, \"director\", \"director_single\")\n",
    "result = imdb_with_directors.groupby('director_single')['revenue'].sum().sort_values(ascending=False).head(1)\n",
    "answers['13'] = result.index[0]"
   ]
  },
  {
   "cell_type": "markdown",
   "metadata": {
    "colab_type": "text",
    "id": "PsYC9FgRVp_a"
   },
   "source": [
    "# 14. Какой режисер снял больше всего фильмов в стиле Action?"
   ]
  },
  {
   "cell_type": "code",
   "execution_count": 18,
   "metadata": {
    "colab": {},
    "colab_type": "code",
    "id": "wd2M-wHeVp_b"
   },
   "outputs": [],
   "source": [
    "imdb_actions_with_director = extend_imdb(imdb[imdb.genres.str.contains('Action')], \"director\", \"director_single\")\n",
    "result = imdb_actions_with_director.groupby('director_single')['imdb_id'].count().sort_values(ascending=False).head(1)\n",
    "answers['14'] = result.index[0]"
   ]
  },
  {
   "cell_type": "markdown",
   "metadata": {
    "colab_type": "text",
    "id": "PQ0KciD7Vp_f"
   },
   "source": [
    "# 15. Фильмы с каким актером принесли самые высокие кассовые сборы в 2012 году? "
   ]
  },
  {
   "cell_type": "code",
   "execution_count": 19,
   "metadata": {
    "colab": {},
    "colab_type": "code",
    "id": "aga62oeKVp_g"
   },
   "outputs": [],
   "source": [
    "imdb_for_2012_with_actors = extend_imdb(imdb[imdb.release_year == 2012], \"cast\", \"actor\")\n",
    "result = imdb_for_2012_with_actors.groupby('actor')['revenue'].sum().sort_values(ascending=False).head(1)\n",
    "answers['15'] = result.index[0]"
   ]
  },
  {
   "cell_type": "markdown",
   "metadata": {
    "colab_type": "text",
    "id": "mWHyyL7QVp_j"
   },
   "source": [
    "# 16. Какой актер снялся в большем количестве высокобюджетных фильмов?"
   ]
  },
  {
   "cell_type": "code",
   "execution_count": 20,
   "metadata": {
    "colab": {},
    "colab_type": "code",
    "id": "qQtmHKTFVp_k"
   },
   "outputs": [],
   "source": [
    "imdb_high_budget_with_actors = extend_imdb(imdb[imdb.budget > imdb.budget.mean()], \"cast\", \"actor\")\n",
    "result = imdb_high_budget_with_actors['actor'].value_counts().head(1)\n",
    "answers['16'] = result.index[0]"
   ]
  },
  {
   "cell_type": "markdown",
   "metadata": {
    "colab_type": "text",
    "id": "NIh6AaW5Vp_n"
   },
   "source": [
    "# 17. В фильмах какого жанра больше всего снимался Nicolas Cage? "
   ]
  },
  {
   "cell_type": "code",
   "execution_count": 21,
   "metadata": {
    "colab": {},
    "colab_type": "code",
    "id": "H74SJDIBVp_n"
   },
   "outputs": [],
   "source": [
    "imdb_with_cage_and_genres = extend_imdb(imdb[imdb.cast.str.contains('Nicolas Cage')], \"genres\", \"genre\")\n",
    "result = imdb_with_cage_and_genres['genre'].value_counts().head(1)\n",
    "answers['17'] = result.index[0]"
   ]
  },
  {
   "cell_type": "markdown",
   "metadata": {
    "colab_type": "text",
    "id": "RqOmPRfWVp_q"
   },
   "source": [
    "# 18. Самый убыточный фильм от Paramount Pictures"
   ]
  },
  {
   "cell_type": "code",
   "execution_count": 22,
   "metadata": {
    "colab": {},
    "colab_type": "code",
    "id": "9E_B0Y96Vp_r"
   },
   "outputs": [],
   "source": [
    "imdb_with_paramount = imdb[imdb.production_companies.str.contains(\"Paramount Pictures\")]\n",
    "result = imdb_with_paramount[imdb_with_paramount.profit == imdb_with_paramount.profit.min()].head(1)\n",
    "answers['18'] = \"%s (%s)\" % (result['original_title'].item(), result['imdb_id'].item())"
   ]
  },
  {
   "cell_type": "markdown",
   "metadata": {
    "colab_type": "text",
    "id": "vS8Ur6ddVp_u"
   },
   "source": [
    "# 19. Какой год стал самым успешным по суммарным кассовым сборам?"
   ]
  },
  {
   "cell_type": "code",
   "execution_count": 23,
   "metadata": {
    "colab": {},
    "colab_type": "code",
    "id": "Dnbt4GdIVp_v"
   },
   "outputs": [],
   "source": [
    "result = imdb.groupby('release_year')['revenue'].sum().sort_values(ascending=False).head(1)\n",
    "answers['19'] = str(result.index[0])"
   ]
  },
  {
   "cell_type": "markdown",
   "metadata": {
    "colab_type": "text",
    "id": "JAzJh4QAVp_z"
   },
   "source": [
    "# 20. Какой самый прибыльный год для студии Warner Bros?"
   ]
  },
  {
   "cell_type": "code",
   "execution_count": 24,
   "metadata": {
    "colab": {},
    "colab_type": "code",
    "id": "wgVu02DEVp_0"
   },
   "outputs": [],
   "source": [
    "imdb_with_wb = imdb[imdb.production_companies.str.contains(\"Warner Bros.\")]\n",
    "result = imdb_with_wb.groupby('release_year')['profit'].sum().sort_values(ascending=False).head(1)\n",
    "answers['20'] = str(result.index[0])"
   ]
  },
  {
   "cell_type": "markdown",
   "metadata": {
    "colab_type": "text",
    "id": "8Im1S2HRVp_4"
   },
   "source": [
    "# 21. В каком месяце за все годы суммарно вышло больше всего фильмов?"
   ]
  },
  {
   "cell_type": "code",
   "execution_count": 25,
   "metadata": {
    "colab": {},
    "colab_type": "code",
    "id": "lev6TH7gVp_4"
   },
   "outputs": [],
   "source": [
    "result = imdb['month'].value_counts().head(1)\n",
    "answers['21'] = calendar.month_name[result.index[0]]\n",
    "# тут, конечно, было бы хорошо вывести на русском, чтоб полностью совпадало, но не успеваю :("
   ]
  },
  {
   "cell_type": "markdown",
   "metadata": {
    "colab_type": "text",
    "id": "uAJsZ_NeVp_7"
   },
   "source": [
    "# 22. Сколько суммарно вышло фильмов летом? (за июнь, июль, август)"
   ]
  },
  {
   "cell_type": "code",
   "execution_count": 26,
   "metadata": {
    "colab": {},
    "colab_type": "code",
    "id": "Aa-hEREoVp_8"
   },
   "outputs": [],
   "source": [
    "answers['22'] = str(imdb[(imdb.month >= 6) & (imdb.month <= 8)]['imdb_id'].count())"
   ]
  },
  {
   "cell_type": "markdown",
   "metadata": {
    "colab_type": "text",
    "id": "G94ppOY1VqAA"
   },
   "source": [
    "# 23. Для какого режиссера зима – самое продуктивное время года? "
   ]
  },
  {
   "cell_type": "code",
   "execution_count": 27,
   "metadata": {
    "colab": {},
    "colab_type": "code",
    "id": "RhNTsamuVqAB"
   },
   "outputs": [],
   "source": [
    "imdb_on_winter = imdb[(imdb.month == 1) | (imdb.month == 2) | (imdb.month == 12)]\n",
    "imdb_on_winter_with_director = extend_imdb(imdb_on_winter, \"director\", \"director_single\")\n",
    "result = imdb_on_winter_with_director['director_single'].value_counts().head(1)\n",
    "answers['23'] = result.index[0]"
   ]
  },
  {
   "cell_type": "markdown",
   "metadata": {
    "colab_type": "text",
    "id": "RBo0JVjVVqAF"
   },
   "source": [
    "# 24. Какая студия дает самые длинные названия своим фильмам по количеству символов?"
   ]
  },
  {
   "cell_type": "code",
   "execution_count": 28,
   "metadata": {
    "colab": {},
    "colab_type": "code",
    "id": "QRGS8L0iVqAG"
   },
   "outputs": [],
   "source": [
    "imdb_with_company = extend_imdb(imdb, 'production_companies', 'company')\n",
    "result = imdb_with_company.groupby('company')['title_length'].mean().sort_values(ascending=False).head(1)\n",
    "answers['24'] = result.index[0]"
   ]
  },
  {
   "cell_type": "markdown",
   "metadata": {
    "colab_type": "text",
    "id": "9G0hbvR7VqAK"
   },
   "source": [
    "# 25. Описание фильмов какой студии в среднем самые длинные по количеству слов?"
   ]
  },
  {
   "cell_type": "code",
   "execution_count": 29,
   "metadata": {
    "colab": {},
    "colab_type": "code",
    "id": "Ge2GsLNxVqAK"
   },
   "outputs": [],
   "source": [
    "imdb_with_company = extend_imdb(imdb, 'production_companies', 'company')\n",
    "result = imdb_with_company.groupby('company')['overview_words'].mean().sort_values(ascending=False).head(1)\n",
    "answers['25'] = result.index[0]"
   ]
  },
  {
   "cell_type": "markdown",
   "metadata": {
    "colab_type": "text",
    "id": "FJ1AFt90VqAP"
   },
   "source": [
    "# 26. Какие фильмы входят в 1 процент лучших по рейтингу? \n",
    "по vote_average"
   ]
  },
  {
   "cell_type": "code",
   "execution_count": 30,
   "metadata": {
    "colab": {},
    "colab_type": "code",
    "id": "8qmJVq4CVqAQ"
   },
   "outputs": [],
   "source": [
    "variants = [\n",
    "    \"Inside Out, The Dark Knight, 12 Years a Slave\",\n",
    "    \"BloodRayne, The Adventures of Rocky & Bullwinkle\",\n",
    "    \"Batman Begins, The Lord of the Rings: The Return of the King, Upside Down\",\n",
    "    \"300, Lucky Number Slevin, Kill Bill: Vol. 1\",\n",
    "    \"Upside Down, Inside Out, Iron Man\"\n",
    "]\n",
    "result = \"\"\n",
    "top_movies = list(imdb.sort_values(\"vote_average\", ascending=False).head(round(len(imdb.index) / 100))['original_title'])\n",
    "for v in variants:\n",
    "    movies = v.split(sep=\", \")\n",
    "    if len(movies) == len([s for s in movies if s in top_movies]):\n",
    "        result = v\n",
    "        break\n",
    "\n",
    "answers['26'] = result"
   ]
  },
  {
   "cell_type": "markdown",
   "metadata": {
    "colab_type": "text",
    "id": "MdXsUXbCVqAV"
   },
   "source": [
    "# 27. Какие актеры чаще всего снимаются в одном фильме вместе?\n"
   ]
  },
  {
   "cell_type": "code",
   "execution_count": 31,
   "metadata": {},
   "outputs": [],
   "source": [
    "variants = [\n",
    "    \"Johnny Depp & Helena Bonham Carter\",\n",
    "    \"Ben Stiller & Owen Wilson\",\n",
    "    \"Vin Diesel & Paul Walker\",\n",
    "    \"Adam Sandler & Kevin James\",\n",
    "    \"Daniel Radcliffe & Rupert Grint\"\n",
    "]\n",
    "# Это не самый эфективный способ, так как для каждой пары происходит отдельный поиск по всему датафрейму\n",
    "# Эффективней подсчитывать сразу в один проход, но это фактически уже просто проход по массиву с подсчетом,\n",
    "#  поэтому сделал таким образом, просто ради интереса\n",
    "c = Counter()\n",
    "for v in variants:\n",
    "    pair = v.split(sep=\" & \")\n",
    "    c[v] = len(imdb[(imdb.cast.str.contains(pair[0])) & (imdb.cast.str.contains(pair[1]))].index)\n",
    "answers['27'] = c.most_common(1)[0][0]"
   ]
  },
  {
   "cell_type": "markdown",
   "metadata": {
    "colab_type": "text",
    "id": "U0nONFnGVqAX"
   },
   "source": [
    "# Submission"
   ]
  },
  {
   "cell_type": "code",
   "execution_count": 32,
   "metadata": {
    "colab": {},
    "colab_type": "code",
    "id": "IfcaRO9-VqAX",
    "outputId": "0f132912-32bb-4196-c98c-abfbc4ad5a5f"
   },
   "outputs": [
    {
     "data": {
      "text/plain": [
       "{'1': 'Pirates of the Caribbean: On Stranger Tides (tt1298650)',\n",
       " '2': 'Gods and Generals (tt0279111)',\n",
       " '3': 'Winnie the Pooh (tt1449283)',\n",
       " '4': '110',\n",
       " '5': '107',\n",
       " '6': 'Avatar (tt0499549)',\n",
       " '7': 'The Lone Ranger (tt1210819)',\n",
       " '8': '1478',\n",
       " '9': 'The Dark Knight (tt0468569)',\n",
       " '10': 'The Lone Ranger (tt1210819)',\n",
       " '11': 'Drama',\n",
       " '12': 'Drama',\n",
       " '13': 'Peter Jackson',\n",
       " '14': 'Robert Rodriguez',\n",
       " '15': 'Chris Hemsworth',\n",
       " '16': 'Matt Damon',\n",
       " '17': 'Action',\n",
       " '18': 'K-19: The Widowmaker (tt0267626)',\n",
       " '19': '2015',\n",
       " '20': '2014',\n",
       " '21': 'September',\n",
       " '22': '450',\n",
       " '23': 'Peter Jackson',\n",
       " '24': 'Four By Two Productions',\n",
       " '25': 'Midnight Picture Show',\n",
       " '26': 'Inside Out, The Dark Knight, 12 Years a Slave',\n",
       " '27': 'Daniel Radcliffe & Rupert Grint'}"
      ]
     },
     "execution_count": 32,
     "metadata": {},
     "output_type": "execute_result"
    }
   ],
   "source": [
    "answers"
   ]
  },
  {
   "cell_type": "code",
   "execution_count": 33,
   "metadata": {
    "colab": {},
    "colab_type": "code",
    "id": "SiRmHPl8VqAd"
   },
   "outputs": [
    {
     "data": {
      "text/plain": [
       "27"
      ]
     },
     "execution_count": 33,
     "metadata": {},
     "output_type": "execute_result"
    }
   ],
   "source": [
    "len(answers)"
   ]
  },
  {
   "cell_type": "markdown",
   "metadata": {
    "colab": {},
    "colab_type": "code",
    "id": "uCfuTkRbVqAg"
   },
   "source": [
    "В шаблоне предлагалось ответы прописывать явно и отдельно решения того, как получили ответ.\n",
    "Мне это показалось странным, поэтому я словарь ответов заполнял сразу при помощи кода (все приведя к строкам для единообразия)"
   ]
  }
 ],
 "metadata": {
  "colab": {
   "name": "Copy of [SF-DST] Movies IMBD v4.1 TEMPLATE.ipynb",
   "provenance": []
  },
  "kernelspec": {
   "display_name": "Python 3",
   "language": "python",
   "name": "python3"
  },
  "language_info": {
   "codemirror_mode": {
    "name": "ipython",
    "version": 3
   },
   "file_extension": ".py",
   "mimetype": "text/x-python",
   "name": "python",
   "nbconvert_exporter": "python",
   "pygments_lexer": "ipython3",
   "version": "3.7.7"
  }
 },
 "nbformat": 4,
 "nbformat_minor": 1
}
